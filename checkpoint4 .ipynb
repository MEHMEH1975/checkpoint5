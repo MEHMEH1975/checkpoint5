{
 "cells": [
  {
   "cell_type": "code",
   "execution_count": 1,
   "id": "1de9d12b",
   "metadata": {},
   "outputs": [
    {
     "name": "stdout",
     "output_type": "stream",
     "text": [
      "35\n"
     ]
    }
   ],
   "source": [
    "l=[20, 35, 19]\n",
    "num=max(l)\n",
    "print(num)"
   ]
  },
  {
   "cell_type": "code",
   "execution_count": 1,
   "id": "4775c510",
   "metadata": {},
   "outputs": [
    {
     "name": "stdout",
     "output_type": "stream",
     "text": [
      "30\n"
     ]
    }
   ],
   "source": [
    "#exercice 1\n",
    "\n",
    "def findmax(a,b,c):\n",
    "    if (a>b) and (a>c):\n",
    "        max=a\n",
    "    elif (b>a) and (b>c):\n",
    "        max=b\n",
    "    else:\n",
    "        max=c\n",
    "        \n",
    "    return max\n",
    "\n",
    "print(findmax(10,20,30))"
   ]
  },
  {
   "cell_type": "code",
   "execution_count": 5,
   "id": "7b92d607",
   "metadata": {},
   "outputs": [
    {
     "name": "stdout",
     "output_type": "stream",
     "text": [
      "(50, 30)\n"
     ]
    }
   ],
   "source": [
    "#exercice 2\n",
    "def calculation(a,b):\n",
    "    x=a+b\n",
    "    y=a-b\n",
    "    return (x,y)\n",
    "    \n",
    "print(calculation(40,10))\n",
    "    "
   ]
  },
  {
   "cell_type": "code",
   "execution_count": 7,
   "id": "b737ab35",
   "metadata": {
    "scrolled": true
   },
   "outputs": [
    {
     "name": "stdout",
     "output_type": "stream",
     "text": [
      "17\n",
      "100\n",
      "[2, 9, 12]\n",
      "[13, 8]\n",
      "23\n",
      "104\n"
     ]
    }
   ],
   "source": [
    "#exercice3\n",
    "\n",
    "def somme(l):\n",
    "    s=0\n",
    "    for i in l:\n",
    "        s=s+i\n",
    "    return s\n",
    "def multiple(l):\n",
    "    x=1\n",
    "    for i in l:\n",
    "        x=x*i\n",
    "    return x\n",
    "\n",
    "    \n",
    "\n",
    "\n",
    "l=[2,5,10]\n",
    "print(somme(l))\n",
    "print(multiple(l))\n",
    "##################################\n",
    "\n",
    "list=[2,13,9,8,12]\n",
    "pair=[]\n",
    "impair=[]\n",
    "for i in range(len(list)):\n",
    "    if i%2==0:\n",
    "        pair.append(list[i])\n",
    "    else:\n",
    "        impair.append(list[i])\n",
    "        \n",
    "print(pair)\n",
    "print(impair)\n",
    "print(somme(pair))\n",
    "print(multiple(impair))\n",
    "\n",
    "\n",
    "        \n",
    "    \n",
    "    "
   ]
  },
  {
   "cell_type": "code",
   "execution_count": 24,
   "id": "af5570f2",
   "metadata": {},
   "outputs": [
    {
     "ename": "SyntaxError",
     "evalue": "invalid syntax (2739589719.py, line 2)",
     "output_type": "error",
     "traceback": [
      "\u001b[1;36m  Input \u001b[1;32mIn [24]\u001b[1;36m\u001b[0m\n\u001b[1;33m    1st=[n for n in colours.split(-_-)]\u001b[0m\n\u001b[1;37m     ^\u001b[0m\n\u001b[1;31mSyntaxError\u001b[0m\u001b[1;31m:\u001b[0m invalid syntax\n"
     ]
    }
   ],
   "source": [
    "colours=\"green-red-yellow-black-white\"\n"
   ]
  },
  {
   "cell_type": "code",
   "execution_count": 1,
   "id": "20e28c2a",
   "metadata": {},
   "outputs": [
    {
     "name": "stdout",
     "output_type": "stream",
     "text": [
      "['welcome', 'to', 'the', 'jungle']\n"
     ]
    }
   ],
   "source": [
    "txt = \"welcome to the jungle\"\n",
    "\n",
    "x = txt.split()\n",
    "\n",
    "print(x)"
   ]
  },
  {
   "cell_type": "code",
   "execution_count": 16,
   "id": "d5f1b76f",
   "metadata": {
    "scrolled": true
   },
   "outputs": [
    {
     "name": "stdout",
     "output_type": "stream",
     "text": [
      "['black', 'green', 'red', 'white', 'yellow']\n",
      "black-green-red-white-yellow\n"
     ]
    }
   ],
   "source": [
    "#exercice 4\n",
    "colours=\"green-red-yellow-black-white\"\n",
    "x=colours.split(\"-\")\n",
    "x.sort()\n",
    "print(x)\n",
    "y=\"-\".join(x)\n",
    "print(y)"
   ]
  },
  {
   "cell_type": "code",
   "execution_count": null,
   "id": "2e3c2b9f",
   "metadata": {},
   "outputs": [],
   "source": []
  },
  {
   "cell_type": "code",
   "execution_count": 81,
   "id": "c250edc5",
   "metadata": {},
   "outputs": [
    {
     "name": "stdout",
     "output_type": "stream",
     "text": [
      "['100', '150', '180']\n",
      "['18', '22', '24']\n",
      "18,22,24\n"
     ]
    }
   ],
   "source": [
    "#exercice 5(bonus)\n",
    "from math import *\n",
    "result=[]\n",
    "H=30\n",
    "C=50\n",
    "D=(\"100,150,180\")\n",
    "res=D.split(\",\")\n",
    "print(res)\n",
    "for i in res:\n",
    "    q=round(sqrt(2*C*int(i)/H))   \n",
    "    result.append(str(q))\n",
    "           \n",
    "\n",
    "print(result)\n",
    "\n",
    "y=\",\".join(result)\n",
    "print(y)\n",
    "\n"
   ]
  },
  {
   "cell_type": "code",
   "execution_count": null,
   "id": "3f198949",
   "metadata": {},
   "outputs": [],
   "source": []
  },
  {
   "cell_type": "code",
   "execution_count": null,
   "id": "3a72ac61",
   "metadata": {},
   "outputs": [],
   "source": []
  }
 ],
 "metadata": {
  "kernelspec": {
   "display_name": "Python 3 (ipykernel)",
   "language": "python",
   "name": "python3"
  },
  "language_info": {
   "codemirror_mode": {
    "name": "ipython",
    "version": 3
   },
   "file_extension": ".py",
   "mimetype": "text/x-python",
   "name": "python",
   "nbconvert_exporter": "python",
   "pygments_lexer": "ipython3",
   "version": "3.9.12"
  }
 },
 "nbformat": 4,
 "nbformat_minor": 5
}
